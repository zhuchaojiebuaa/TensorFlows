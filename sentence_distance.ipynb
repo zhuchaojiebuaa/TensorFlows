import gensim

model = gensim.models.KeyedVectors.load_word2vec_format("/media/spytensor/DATA/Aiyuba/attentionLSTM/data/GoogleNews-vectors-negative300.bin",binary=True
sentence1 = "Some of these models are available"
sentence2 = "You also can't swap in different word vectors"
distance = model.wmdistance(sentence1,sentence2)
print('distance = %.3f' % distance)

import numpy as np
from scipy import spatial

index2word_set = set(model.index2word)

def avg_feature_vector(sentence, model, num_features, index2word_set):
    words = sentence.split()
    feature_vec = np.zeros((num_features, ), dtype='float32')
    n_words = 0
    for word in words:
        if word in index2word_set:
            n_words += 1
            feature_vec = np.add(feature_vec, model[word])
    if (n_words > 0):
        feature_vec = np.divide(feature_vec, n_words)
    return feature_vec
    
s1_afv = avg_feature_vector(sentence1, model=model, num_features=300, index2word_set=index2word_set)
s2_afv = avg_feature_vector(sentence2, model=model, num_features=300, index2word_set=index2word_set)
sim = 1 - spatial.distance.cosine(s1_afv, s2_afv)
print(sim)
